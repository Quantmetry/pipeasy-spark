{
 "cells": [
  {
   "cell_type": "code",
   "execution_count": 1,
   "metadata": {},
   "outputs": [],
   "source": [
    "%load_ext autoreload\n",
    "%autoreload 2"
   ]
  },
  {
   "cell_type": "code",
   "execution_count": 2,
   "metadata": {},
   "outputs": [],
   "source": [
    "import pipeasy_spark as ppz\n",
    "import pyspark\n",
    "from pyspark.ml.feature import (\n",
    "    OneHotEncoder, StringIndexer, StandardScaler, OneHotEncoder, OneHotEncoderEstimator,\n",
    "    VectorAssembler\n",
    ")"
   ]
  },
  {
   "cell_type": "code",
   "execution_count": 3,
   "metadata": {},
   "outputs": [],
   "source": [
    "session = pyspark.sql.SparkSession.builder.appName('titanic').getOrCreate()\n",
    "titanic = session.read.csv('./datasets/titanic.csv', header=True, inferSchema=True, sep='\\t')"
   ]
  },
  {
   "cell_type": "code",
   "execution_count": 4,
   "metadata": {},
   "outputs": [
    {
     "name": "stdout",
     "output_type": "stream",
     "text": [
      "+-----------+--------+------+--------------------+----+----+-----+-----+---------+----+-----+--------+\n",
      "|PassengerId|Survived|Pclass|                Name| Sex| Age|SibSp|Parch|   Ticket|Fare|Cabin|Embarked|\n",
      "+-----------+--------+------+--------------------+----+----+-----+-----+---------+----+-----+--------+\n",
      "|          1|       0|     3|Braund, Mr. Owen ...|male|22.0|    1|    0|A/5 21171|7.25| null|       S|\n",
      "+-----------+--------+------+--------------------+----+----+-----+-----+---------+----+-----+--------+\n",
      "only showing top 1 row\n",
      "\n"
     ]
    }
   ],
   "source": [
    "titanic.show(1)"
   ]
  },
  {
   "cell_type": "code",
   "execution_count": 5,
   "metadata": {},
   "outputs": [
    {
     "name": "stdout",
     "output_type": "stream",
     "text": [
      "+--------+--------------------+------+----+----+\n",
      "|Survived|                Name|Pclass| Sex| Age|\n",
      "+--------+--------------------+------+----+----+\n",
      "|       0|Braund, Mr. Owen ...|     3|male|22.0|\n",
      "+--------+--------------------+------+----+----+\n",
      "only showing top 1 row\n",
      "\n"
     ]
    }
   ],
   "source": [
    "df = titanic.select('Survived', 'Name', 'Pclass', 'Sex', 'Age').dropna()\n",
    "df.show(1)"
   ]
  },
  {
   "cell_type": "code",
   "execution_count": 6,
   "metadata": {},
   "outputs": [],
   "source": [
    "transformer = ppz.map_by_column({\n",
    "    'Survived': None,  # this variable is not modified ('Survived': [] is also valid), or the column can be omitted\n",
    "    'Name': [ppz.transformers.ColumnDropper()],\n",
    "    'Pclass': [OneHotEncoder()],\n",
    "    'Sex': [StringIndexer(), OneHotEncoderEstimator(dropLast=False)],\n",
    "    'Age': [VectorAssembler(), StandardScaler()]\n",
    "}, target_name='Survived')"
   ]
  },
  {
   "cell_type": "code",
   "execution_count": 7,
   "metadata": {
    "scrolled": false
   },
   "outputs": [
    {
     "name": "stdout",
     "output_type": "stream",
     "text": [
      "+--------+-------------+-------------+--------------------+--------------------+\n",
      "|Survived|       Pclass|          Sex|                 Age|            features|\n",
      "+--------+-------------+-------------+--------------------+--------------------+\n",
      "|       0|    (3,[],[])|(2,[0],[1.0])|[1.5054181442954726]|(6,[3,5],[1.0,1.5...|\n",
      "|       1|(3,[1],[1.0])|(2,[1],[1.0])| [2.600267703783089]|[0.0,1.0,0.0,0.0,...|\n",
      "|       1|    (3,[],[])|(2,[1],[1.0])|[1.7791305341673767]|(6,[4,5],[1.0,1.7...|\n",
      "|       1|(3,[1],[1.0])|(2,[1],[1.0])| [2.394983411379161]|[0.0,1.0,0.0,0.0,...|\n",
      "|       0|    (3,[],[])|(2,[0],[1.0])| [2.394983411379161]|(6,[3,5],[1.0,2.3...|\n",
      "|       0|(3,[1],[1.0])|(2,[0],[1.0])|[3.6951172632707054]|[0.0,1.0,0.0,1.0,...|\n",
      "|       0|    (3,[],[])|(2,[0],[1.0])|[0.13685619493595...|(6,[3,5],[1.0,0.1...|\n",
      "|       1|    (3,[],[])|(2,[1],[1.0])|[1.8475586316353527]|(6,[4,5],[1.0,1.8...|\n",
      "|       1|(3,[2],[1.0])|(2,[1],[1.0])|[0.9579933645516644]|[0.0,0.0,1.0,0.0,...|\n",
      "|       1|    (3,[],[])|(2,[1],[1.0])|[0.2737123898719041]|(6,[4,5],[1.0,0.2...|\n",
      "|       1|(3,[1],[1.0])|(2,[1],[1.0])|[3.9688296531426097]|[0.0,1.0,0.0,0.0,...|\n",
      "|       0|    (3,[],[])|(2,[0],[1.0])|[1.3685619493595205]|(6,[3,5],[1.0,1.3...|\n",
      "|       0|    (3,[],[])|(2,[0],[1.0])| [2.668695801251065]|(6,[3,5],[1.0,2.6...|\n",
      "|       0|    (3,[],[])|(2,[1],[1.0])|[0.9579933645516644]|(6,[4,5],[1.0,0.9...|\n",
      "|       1|(3,[2],[1.0])|(2,[1],[1.0])|[3.7635453607386813]|[0.0,0.0,1.0,0.0,...|\n",
      "|       0|    (3,[],[])|(2,[0],[1.0])|[0.13685619493595...|(6,[3,5],[1.0,0.1...|\n",
      "|       0|    (3,[],[])|(2,[1],[1.0])| [2.121271021507257]|(6,[4,5],[1.0,2.1...|\n",
      "|       0|(3,[2],[1.0])|(2,[0],[1.0])| [2.394983411379161]|[0.0,0.0,1.0,1.0,...|\n",
      "|       1|(3,[2],[1.0])|(2,[0],[1.0])| [2.326555313911185]|[0.0,0.0,1.0,1.0,...|\n",
      "|       1|    (3,[],[])|(2,[1],[1.0])|[1.0264214620196404]|(6,[4,5],[1.0,1.0...|\n",
      "+--------+-------------+-------------+--------------------+--------------------+\n",
      "only showing top 20 rows\n",
      "\n"
     ]
    }
   ],
   "source": [
    "trained_transformer = transformer.fit(df)\n",
    "df_transformed = trained_transformer.transform(df)\n",
    "df_transformed.show(20)"
   ]
  },
  {
   "cell_type": "code",
   "execution_count": 8,
   "metadata": {},
   "outputs": [],
   "source": [
    "from pyspark.ml.classification import LogisticRegression\n",
    "logit = LogisticRegression(featuresCol='features', labelCol='Survived')\n",
    "predictor = logit.fit(df_transformed)"
   ]
  },
  {
   "cell_type": "code",
   "execution_count": 9,
   "metadata": {},
   "outputs": [
    {
     "name": "stdout",
     "output_type": "stream",
     "text": [
      "+--------+-------------+-------------+--------------------+--------------------+--------------------+--------------------+----------+\n",
      "|Survived|       Pclass|          Sex|                 Age|            features|       rawPrediction|         probability|prediction|\n",
      "+--------+-------------+-------------+--------------------+--------------------+--------------------+--------------------+----------+\n",
      "|       0|    (3,[],[])|(2,[0],[1.0])|[1.5054181442954726]|(6,[3,5],[1.0,1.5...|[2.72954543088323...|[0.93874770446287...|       0.0|\n",
      "|       1|(3,[1],[1.0])|(2,[1],[1.0])| [2.600267703783089]|[0.0,1.0,0.0,0.0,...|[-1.4995958294148...|[0.18248581215260...|       1.0|\n",
      "|       1|    (3,[],[])|(2,[1],[1.0])|[1.7791305341673767]|(6,[4,5],[1.0,1.7...|[-0.2130400374162...|[0.44694051906310...|       1.0|\n",
      "|       1|(3,[1],[1.0])|(2,[1],[1.0])| [2.394983411379161]|[0.0,1.0,0.0,0.0,...|[-1.5535336402292...|[0.17457648656092...|       1.0|\n",
      "|       0|    (3,[],[])|(2,[0],[1.0])| [2.394983411379161]|(6,[3,5],[1.0,2.3...|[2.96327594441199...|[0.95088720906831...|       0.0|\n",
      "|       0|(3,[1],[1.0])|(2,[0],[1.0])|[3.6951172632707054]|[0.0,1.0,0.0,1.0,...|[1.80257504431342...|[0.85846210455161...|       0.0|\n",
      "|       0|    (3,[],[])|(2,[0],[1.0])|[0.13685619493595...|(6,[3,5],[1.0,0.1...|[2.36996002545436...|[0.91450773527359...|       0.0|\n",
      "|       1|    (3,[],[])|(2,[1],[1.0])|[1.8475586316353527]|(6,[4,5],[1.0,1.8...|[-0.1950607671447...|[0.45138884318170...|       1.0|\n",
      "|       1|(3,[2],[1.0])|(2,[1],[1.0])|[0.9579933645516644]|[0.0,0.0,1.0,0.0,...|[-1.7794445878410...|[0.14437172978915...|       1.0|\n",
      "|       1|    (3,[],[])|(2,[1],[1.0])|[0.2737123898719041]|(6,[4,5],[1.0,0.2...|[-0.6085839833879...|[0.35238227807878...|       1.0|\n",
      "+--------+-------------+-------------+--------------------+--------------------+--------------------+--------------------+----------+\n",
      "only showing top 10 rows\n",
      "\n"
     ]
    }
   ],
   "source": [
    "predictor.transform(df_transformed).show(10)"
   ]
  },
  {
   "cell_type": "code",
   "execution_count": null,
   "metadata": {},
   "outputs": [],
   "source": []
  }
 ],
 "metadata": {
  "kernelspec": {
   "display_name": "Python 3",
   "language": "python",
   "name": "python3"
  },
  "language_info": {
   "codemirror_mode": {
    "name": "ipython",
    "version": 3
   },
   "file_extension": ".py",
   "mimetype": "text/x-python",
   "name": "python",
   "nbconvert_exporter": "python",
   "pygments_lexer": "ipython3",
   "version": "3.6.5"
  }
 },
 "nbformat": 4,
 "nbformat_minor": 2
}
